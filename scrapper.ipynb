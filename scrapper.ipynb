{
 "cells": [
  {
   "cell_type": "markdown",
   "id": "8bc637b8-0fe8-4105-aa17-814c50f6b0b6",
   "metadata": {},
   "source": [
    "# Scrapper"
   ]
  },
  {
   "cell_type": "markdown",
   "id": "6d4a3fbd-8ede-4cd0-b061-0acb9c655fe3",
   "metadata": {},
   "source": [
    "## Required libraries"
   ]
  },
  {
   "cell_type": "code",
   "execution_count": 1,
   "id": "2434c032-f60e-40d7-88d6-9e2e4401c736",
   "metadata": {},
   "outputs": [],
   "source": [
    "import csv\n",
    "from getpass import getpass\n",
    "from time import sleep\n",
    "from selenium.webdriver.common.keys import Keys\n",
    "from selenium.common.exceptions import NoSuchElementException\n",
    "from webdriver_manager.chrome import ChromeDriverManager\n",
    "from selenium.webdriver.common.by import By\n",
    "from selenium.webdriver.chrome.service import Service\n",
    "from selenium import webdriver"
   ]
  },
  {
   "cell_type": "markdown",
   "id": "e7959138-818f-44d4-ae8a-fcffd316301a",
   "metadata": {},
   "source": [
    "## Utilities"
   ]
  },
  {
   "cell_type": "code",
   "execution_count": 46,
   "id": "cb52daf5-0ed2-422b-9c2f-5514159fe220",
   "metadata": {},
   "outputs": [],
   "source": [
    "def get_tweet_data(card, candidate):\n",
    "    \"\"\"Extract data from tweet card\"\"\"\n",
    "    tweet = None\n",
    "    \n",
    "    try:\n",
    "        username = card.find_element(By.XPATH, './/span').text\n",
    "        handle = card.find_element(By.XPATH, './/span[contains(text(), \"@\")]').text\n",
    "        postdate = card.find_element(By.XPATH, './/time').get_attribute('datetime')\n",
    "        text = card.find_element(By.XPATH, './/div[@dir=\"auto\" and @lang]').text\n",
    "        reply_cnt = card.find_element(By.XPATH, './/div[@data-testid=\"reply\"]').text\n",
    "        retweet_cnt = card.find_element(By.XPATH, './/div[@data-testid=\"retweet\"]').text\n",
    "        like_cnt = card.find_element(By.XPATH, './/div[@data-testid=\"like\"]').text\n",
    "        tweet = (username, handle, postdate, text, reply_cnt, retweet_cnt, like_cnt, candidate)\n",
    "        \n",
    "    except Exception as e:\n",
    "        return tweet\n",
    "        \n",
    "    return tweet  "
   ]
  },
  {
   "cell_type": "markdown",
   "id": "a4eb8741-5563-4e14-8215-5b97b2e92aea",
   "metadata": {},
   "source": [
    "## Login process"
   ]
  },
  {
   "cell_type": "code",
   "execution_count": 74,
   "id": "58254f8b-7b43-4ae8-b8f7-3f8ba9ed748a",
   "metadata": {},
   "outputs": [
    {
     "name": "stderr",
     "output_type": "stream",
     "text": [
      "\n",
      "\n",
      "====== WebDriver manager ======\n",
      "Current google-chrome version is 97.0.4692\n",
      "Get LATEST chromedriver version for 97.0.4692 google-chrome\n",
      "Driver [/Users/fernandoa/.wdm/drivers/chromedriver/mac64/97.0.4692.71/chromedriver] found in cache\n"
     ]
    }
   ],
   "source": [
    "s=Service(ChromeDriverManager().install())\n",
    "driver = webdriver.Chrome(service=s)\n",
    "driver.get('https://twitter.com/i/flow/login')"
   ]
  },
  {
   "cell_type": "code",
   "execution_count": 75,
   "id": "ea42e99b-f08d-4a76-9d41-766baf281f30",
   "metadata": {},
   "outputs": [],
   "source": [
    "# Send username through specified field\n",
    "TWITTER_ACCOUNT_NAME_OR_MOBILE_PHONE = \"3164917357\"\n",
    "username_field = driver.find_element(By.XPATH, '//input[@autocomplete=\"username\"]')\n",
    "username_field.send_keys(TWITTER_ACCOUNT_NAME_OR_MOBILE_PHONE)\n",
    "username_field.send_keys(Keys.RETURN)"
   ]
  },
  {
   "cell_type": "code",
   "execution_count": 77,
   "id": "7b34ffcb-7388-4119-a0e7-23ef449c31a0",
   "metadata": {},
   "outputs": [
    {
     "name": "stdin",
     "output_type": "stream",
     "text": [
      " ··············\n"
     ]
    }
   ],
   "source": [
    "# Do the same but with the password\n",
    "my_password = getpass()\n",
    "password_field = driver.find_element(By.XPATH, '//input[@autocomplete=\"current-password\"]')\n",
    "password_field.send_keys(my_password)\n",
    "password_field.send_keys(Keys.RETURN)\n",
    "sleep(5)"
   ]
  },
  {
   "cell_type": "markdown",
   "id": "16946ff5-89fa-462a-86e0-a97c4b98810c",
   "metadata": {},
   "source": [
    "## Tweet extraction"
   ]
  },
  {
   "cell_type": "code",
   "execution_count": 78,
   "id": "4ce78dad-5356-4671-9db0-124d42b10cf5",
   "metadata": {},
   "outputs": [
    {
     "name": "stdout",
     "output_type": "stream",
     "text": [
      "Added tweet #1 of candidate Uribe.\n",
      "Added tweet #2 of candidate Uribe.\n",
      "Added tweet #3 of candidate Uribe.\n",
      "Added tweet #4 of candidate Uribe.\n",
      "Added tweet #5 of candidate Uribe.\n",
      "Added tweet #6 of candidate Uribe.\n",
      "Added tweet #7 of candidate Uribe.\n",
      "Added tweet #8 of candidate Uribe.\n",
      "Added tweet #9 of candidate Uribe.\n",
      "Added tweet #10 of candidate Uribe.\n",
      "Added tweet #11 of candidate Uribe.\n",
      "Added tweet #12 of candidate Uribe.\n",
      "Added tweet #13 of candidate Uribe.\n",
      "Added tweet #14 of candidate Uribe.\n",
      "Added tweet #15 of candidate Uribe.\n",
      "Added tweet #16 of candidate Uribe.\n",
      "Added tweet #17 of candidate Uribe.\n",
      "Added tweet #18 of candidate Uribe.\n",
      "Added tweet #19 of candidate Uribe.\n",
      "Added tweet #20 of candidate Uribe.\n",
      "Added tweet #21 of candidate Uribe.\n",
      "Added tweet #22 of candidate Uribe.\n",
      "Added tweet #23 of candidate Uribe.\n",
      "Added tweet #24 of candidate Uribe.\n",
      "Added tweet #25 of candidate Uribe.\n",
      "Added tweet #26 of candidate Uribe.\n",
      "Added tweet #27 of candidate Uribe.\n",
      "Added tweet #28 of candidate Uribe.\n",
      "Added tweet #29 of candidate Uribe.\n",
      "Added tweet #30 of candidate Uribe.\n",
      "Added tweet #31 of candidate Uribe.\n",
      "Added tweet #32 of candidate Uribe.\n",
      "Added tweet #33 of candidate Uribe.\n",
      "Added tweet #34 of candidate Uribe.\n",
      "Added tweet #35 of candidate Uribe.\n",
      "Added tweet #36 of candidate Uribe.\n",
      "Added tweet #37 of candidate Uribe.\n",
      "Added tweet #38 of candidate Uribe.\n",
      "Added tweet #39 of candidate Uribe.\n",
      "Added tweet #40 of candidate Uribe.\n",
      "Added tweet #41 of candidate Uribe.\n",
      "Added tweet #42 of candidate Uribe.\n",
      "Added tweet #43 of candidate Uribe.\n",
      "Added tweet #44 of candidate Uribe.\n",
      "Added tweet #45 of candidate Uribe.\n",
      "Added tweet #46 of candidate Uribe.\n",
      "Added tweet #47 of candidate Uribe.\n",
      "Added tweet #48 of candidate Uribe.\n",
      "Added tweet #49 of candidate Uribe.\n",
      "Added tweet #50 of candidate Uribe.\n",
      "Added tweet #51 of candidate Uribe.\n",
      "Added tweet #52 of candidate Uribe.\n",
      "Added tweet #53 of candidate Uribe.\n",
      "Added tweet #54 of candidate Uribe.\n",
      "Added tweet #55 of candidate Uribe.\n",
      "Added tweet #56 of candidate Uribe.\n",
      "Added tweet #57 of candidate Uribe.\n",
      "Added tweet #58 of candidate Uribe.\n",
      "Added tweet #59 of candidate Uribe.\n",
      "Added tweet #60 of candidate Uribe.\n",
      "Added tweet #61 of candidate Uribe.\n",
      "Added tweet #62 of candidate Uribe.\n",
      "Added tweet #63 of candidate Uribe.\n",
      "Added tweet #64 of candidate Uribe.\n",
      "Added tweet #65 of candidate Uribe.\n",
      "Added tweet #66 of candidate Uribe.\n",
      "Added tweet #67 of candidate Uribe.\n",
      "Added tweet #68 of candidate Uribe.\n",
      "Added tweet #69 of candidate Uribe.\n",
      "Added tweet #70 of candidate Uribe.\n",
      "Added tweet #71 of candidate Uribe.\n",
      "Added tweet #72 of candidate Uribe.\n",
      "Added tweet #73 of candidate Uribe.\n",
      "Added tweet #74 of candidate Uribe.\n",
      "Added tweet #75 of candidate Uribe.\n",
      "Added tweet #76 of candidate Uribe.\n",
      "Added tweet #77 of candidate Uribe.\n",
      "Added tweet #78 of candidate Uribe.\n",
      "Added tweet #79 of candidate Uribe.\n",
      "Added tweet #80 of candidate Uribe.\n",
      "Added tweet #81 of candidate Uribe.\n",
      "Added tweet #82 of candidate Uribe.\n",
      "Added tweet #83 of candidate Uribe.\n",
      "Added tweet #84 of candidate Uribe.\n",
      "Added tweet #85 of candidate Uribe.\n",
      "Added tweet #86 of candidate Uribe.\n",
      "Added tweet #87 of candidate Uribe.\n",
      "Added tweet #88 of candidate Uribe.\n",
      "Added tweet #89 of candidate Uribe.\n",
      "Added tweet #90 of candidate Uribe.\n",
      "Added tweet #91 of candidate Uribe.\n",
      "Added tweet #92 of candidate Uribe.\n",
      "Added tweet #93 of candidate Uribe.\n",
      "Added tweet #94 of candidate Uribe.\n",
      "Added tweet #95 of candidate Uribe.\n",
      "Added tweet #96 of candidate Uribe.\n",
      "Added tweet #97 of candidate Uribe.\n",
      "Added tweet #98 of candidate Uribe.\n",
      "Added tweet #99 of candidate Uribe.\n",
      "Added tweet #100 of candidate Uribe.\n",
      "Added tweet #101 of candidate Uribe.\n",
      "Added tweet #102 of candidate Uribe.\n",
      "Added tweet #103 of candidate Uribe.\n",
      "Added tweet #104 of candidate Uribe.\n",
      "Added tweet #105 of candidate Uribe.\n",
      "Added tweet #106 of candidate Uribe.\n",
      "Added tweet #107 of candidate Uribe.\n",
      "Added tweet #108 of candidate Uribe.\n",
      "Added tweet #109 of candidate Uribe.\n",
      "Added tweet #110 of candidate Uribe.\n",
      "Added tweet #111 of candidate Uribe.\n",
      "Added tweet #112 of candidate Uribe.\n",
      "Added tweet #113 of candidate Uribe.\n",
      "Added tweet #114 of candidate Uribe.\n",
      "Added tweet #115 of candidate Uribe.\n",
      "Added tweet #116 of candidate Uribe.\n",
      "Added tweet #117 of candidate Uribe.\n",
      "Added tweet #118 of candidate Uribe.\n",
      "Added tweet #119 of candidate Uribe.\n",
      "Added tweet #120 of candidate Uribe.\n",
      "Added tweet #121 of candidate Uribe.\n",
      "Added tweet #122 of candidate Uribe.\n",
      "Added tweet #123 of candidate Uribe.\n",
      "Added tweet #124 of candidate Uribe.\n",
      "Added tweet #125 of candidate Uribe.\n",
      "Added tweet #126 of candidate Uribe.\n",
      "Added tweet #127 of candidate Uribe.\n",
      "Added tweet #128 of candidate Uribe.\n",
      "Added tweet #129 of candidate Uribe.\n",
      "Added tweet #130 of candidate Uribe.\n",
      "Added tweet #131 of candidate Uribe.\n",
      "Added tweet #132 of candidate Uribe.\n",
      "Added tweet #133 of candidate Uribe.\n",
      "Added tweet #134 of candidate Uribe.\n",
      "Added tweet #135 of candidate Uribe.\n",
      "Added tweet #136 of candidate Uribe.\n",
      "Added tweet #137 of candidate Uribe.\n",
      "Added tweet #138 of candidate Uribe.\n",
      "Added tweet #139 of candidate Uribe.\n",
      "Added tweet #140 of candidate Uribe.\n"
     ]
    }
   ],
   "source": [
    "profiles = {\n",
    "    'Uribe': 'https://twitter.com/AlvaroUribeVel'\n",
    "}\n",
    "\n",
    "tweets = list()\n",
    "tweets_ids = set()\n",
    "SCROLL_ATTEMPT_THRESHOLD = 3\n",
    "MAX = 1000\n",
    "\n",
    "for candidate in profiles.keys():\n",
    "    driver.get(profiles[candidate])\n",
    "    driver.maximize_window()\n",
    "    sleep(3)\n",
    "    liked = driver.find_element(By.LINK_TEXT, 'Me gusta').click()\n",
    "    sleep(3)\n",
    "    last_position = driver.execute_script(\"return window.pageYOffset;\")\n",
    "    scrolling = True\n",
    "    counter = 0\n",
    "    \n",
    "    while scrolling:\n",
    "        page_cards = driver.find_elements(By.XPATH, '//article[@data-testid=\"tweet\"]')\n",
    "\n",
    "        for card in page_cards:\n",
    "            tweet = get_tweet_data(card, candidate)\n",
    "\n",
    "            if not tweet is None:\n",
    "                tweet_id = ''.join(tweet)\n",
    "                \n",
    "                if tweet_id not in tweets_ids:\n",
    "                    tweets.append(tweet)\n",
    "                    counter += 1\n",
    "                    print(f'Added tweet #{counter} of candidate {candidate}.')\n",
    "                    \n",
    "                if (counter == MAX):\n",
    "                    break\n",
    "        \n",
    "        if counter == MAX:\n",
    "            print('Limit reached, proceeding to Web Scrape next candidate\\'s profile')\n",
    "            break\n",
    "        \n",
    "        scroll_attempt = 0\n",
    "        while True:\n",
    "            driver.execute_script('window.scrollTo(0, document.body.scrollHeight);')\n",
    "            sleep(2)\n",
    "            curr_position = driver.execute_script(\"return window.pageYOffset;\")\n",
    "            if last_position == curr_position:\n",
    "                scroll_attempt += 1\n",
    "\n",
    "                # end of scroll region\n",
    "                if scroll_attempt >= SCROLL_ATTEMPT_THRESHOLD:\n",
    "                    scrolling = False\n",
    "                    break\n",
    "                    \n",
    "                else:\n",
    "                    sleep(2) # attempt another scroll\n",
    "            else:\n",
    "                last_position = curr_position\n",
    "                break\n",
    "\n",
    "driver.close()"
   ]
  },
  {
   "cell_type": "code",
   "execution_count": 35,
   "id": "b969f0fc-1f72-4d4d-af77-0e23ac70afa6",
   "metadata": {},
   "outputs": [
    {
     "data": {
      "text/plain": [
       "8"
      ]
     },
     "execution_count": 35,
     "metadata": {},
     "output_type": "execute_result"
    }
   ],
   "source": [
    "len(tweets)"
   ]
  },
  {
   "cell_type": "code",
   "execution_count": 63,
   "id": "d14dbf58-6df9-465c-973d-718f1e3e448d",
   "metadata": {},
   "outputs": [],
   "source": [
    "with open('liked_uribe_tweets.csv', 'w', newline='', encoding='utf-8') as f:\n",
    "    header = ['UserName', 'Handle', 'Timestamp', 'Text', 'Comments', 'Likes', 'Retweets', 'Candidate']\n",
    "    writer = csv.writer(f)\n",
    "    writer.writerow(header)\n",
    "    writer.writerows(tweets)"
   ]
  }
 ],
 "metadata": {
  "kernelspec": {
   "display_name": "Python 3 (ipykernel)",
   "language": "python",
   "name": "python3"
  },
  "language_info": {
   "codemirror_mode": {
    "name": "ipython",
    "version": 3
   },
   "file_extension": ".py",
   "mimetype": "text/x-python",
   "name": "python",
   "nbconvert_exporter": "python",
   "pygments_lexer": "ipython3",
   "version": "3.9.7"
  }
 },
 "nbformat": 4,
 "nbformat_minor": 5
}
