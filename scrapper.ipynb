{
 "cells": [
  {
   "cell_type": "markdown",
   "id": "8bc637b8-0fe8-4105-aa17-814c50f6b0b6",
   "metadata": {},
   "source": [
    "# Scrapper"
   ]
  },
  {
   "cell_type": "markdown",
   "id": "6d4a3fbd-8ede-4cd0-b061-0acb9c655fe3",
   "metadata": {},
   "source": [
    "## Required libraries"
   ]
  },
  {
   "cell_type": "code",
   "execution_count": 125,
   "id": "2434c032-f60e-40d7-88d6-9e2e4401c736",
   "metadata": {},
   "outputs": [],
   "source": [
    "import csv\n",
    "from getpass import getpass\n",
    "from time import sleep\n",
    "from selenium.webdriver.common.keys import Keys\n",
    "from selenium.common.exceptions import NoSuchElementException\n",
    "from webdriver_manager.chrome import ChromeDriverManager\n",
    "from selenium.webdriver.common.by import By\n",
    "from selenium.webdriver.chrome.service import Service\n",
    "from selenium import webdriver"
   ]
  },
  {
   "cell_type": "markdown",
   "id": "e7959138-818f-44d4-ae8a-fcffd316301a",
   "metadata": {},
   "source": [
    "## Utilities"
   ]
  },
  {
   "cell_type": "code",
   "execution_count": 126,
   "id": "cb52daf5-0ed2-422b-9c2f-5514159fe220",
   "metadata": {},
   "outputs": [],
   "source": [
    "def get_tweet_data(card):\n",
    "    username = card.find_element_by_xpath('.//span').text\n",
    "    try:\n",
    "        handle = card.find_element_by_xpath('.//span[contains(text(), \"@\")]').text\n",
    "    except NoSuchElementException:\n",
    "        return\n",
    "    \n",
    "    try:\n",
    "        postdate = card.find_element_by_xpath('.//time').get_attribute('datetime')\n",
    "    except NoSuchElementException:\n",
    "        return\n",
    "    \n",
    "    comment = card.find_element_by_xpath('.//div[2]/div[2]/div[1]').text\n",
    "    responding = card.find_element_by_xpath('.//div[2]/div[2]/div[2]').text\n",
    "    text = comment + responding\n",
    "    reply_cnt = card.find_element_by_xpath('.//div[@data-testid=\"reply\"]').text\n",
    "    retweet_cnt = card.find_element_by_xpath('.//div[@data-testid=\"retweet\"]').text\n",
    "    like_cnt = card.find_element_by_xpath('.//div[@data-testid=\"like\"]').text\n",
    "    \n",
    "    tweet = (username, handle, postdate, text, reply_cnt, retweet_cnt, like_count)\n",
    "    return tweet"
   ]
  },
  {
   "cell_type": "markdown",
   "id": "a4eb8741-5563-4e14-8215-5b97b2e92aea",
   "metadata": {},
   "source": [
    "## Login process"
   ]
  },
  {
   "cell_type": "code",
   "execution_count": 129,
   "id": "66f0f8ad-ad84-4144-9d4e-c0d992098c3d",
   "metadata": {},
   "outputs": [
    {
     "name": "stderr",
     "output_type": "stream",
     "text": [
      "\n",
      "\n",
      "====== WebDriver manager ======\n",
      "Current google-chrome version is 97.0.4692\n",
      "Get LATEST chromedriver version for 97.0.4692 google-chrome\n",
      "Trying to download new driver from https://chromedriver.storage.googleapis.com/97.0.4692.71/chromedriver_mac64.zip\n",
      "Driver has been saved in cache [/Users/fernandoa/.wdm/drivers/chromedriver/mac64/97.0.4692.71]\n"
     ]
    },
    {
     "name": "stdin",
     "output_type": "stream",
     "text": [
      " ··············\n"
     ]
    }
   ],
   "source": [
    "TWITTER_ACCOUNT_NAME_OR_MOBILE_PHONE = \"3164917357\"\n",
    "\n",
    "s=Service(ChromeDriverManager().install())\n",
    "driver = webdriver.Chrome(service=s)\n",
    "driver.get('https://twitter.com/i/flow/login')\n",
    "sleep(10)\n",
    "\n",
    "# Send username through specified field\n",
    "username_field = driver.find_element(By.XPATH, '//input[@autocomplete=\"username\"]')\n",
    "username_field.send_keys(TWITTER_ACCOUNT_NAME_OR_MOBILE_PHONE)\n",
    "username_field.send_keys(Keys.RETURN)\n",
    "\n",
    "# Do the same but with the password\n",
    "my_password = getpass()\n",
    "password_field = driver.find_element(By.XPATH, '//input[@autocomplete=\"current-password\"]')\n",
    "password_field.send_keys(my_password)\n",
    "password_field.send_keys(Keys.RETURN)\n",
    "sleep(5)"
   ]
  },
  {
   "cell_type": "markdown",
   "id": "16946ff5-89fa-462a-86e0-a97c4b98810c",
   "metadata": {},
   "source": [
    "## Tweet extraction"
   ]
  },
  {
   "cell_type": "code",
   "execution_count": 216,
   "id": "fe314db5-1c92-48e6-8721-e8535696d80e",
   "metadata": {},
   "outputs": [],
   "source": [
    "profiles = {\n",
    "    'Petro': 'https://twitter.com/petrogustavo',\n",
    "    'Fajardo': 'https://twitter.com/sergio_fajardo',\n",
    "    'Uribe': 'https://twitter.com/AlvaroUribeVel'\n",
    "}\n",
    "\n",
    "tweets_info = set()\n",
    "SCROLL_THRESHOLD = 3"
   ]
  },
  {
   "cell_type": "code",
   "execution_count": 217,
   "id": "b239c319-2f81-4f30-8d4a-7d7da21a88cd",
   "metadata": {},
   "outputs": [],
   "source": [
    "for candidate in profiles.keys():\n",
    "    driver.get(profile)\n",
    "    sleep(3)\n",
    "    liked = driver.find_element(By.LINK_TEXT, 'Me gusta').click()\n",
    "    sleep(3)\n",
    "    tweets = driver.find_elements(By.XPATH, '//article[@data-testid=\"tweet\"]')\n",
    "\n",
    "    for tweet in tweets:\n",
    "        content = tweet.find_element(By.XPATH, './/div[2]/div[2]/div[2]')\n",
    "        text = ''.join([piece.text for piece in content.find_elements(By.XPATH, './/span')])\n",
    "        \n",
    "        if text not in tweets_info:\n",
    "            tweets_info.add((text, candidate))"
   ]
  }
 ],
 "metadata": {
  "kernelspec": {
   "display_name": "Python 3 (ipykernel)",
   "language": "python",
   "name": "python3"
  },
  "language_info": {
   "codemirror_mode": {
    "name": "ipython",
    "version": 3
   },
   "file_extension": ".py",
   "mimetype": "text/x-python",
   "name": "python",
   "nbconvert_exporter": "python",
   "pygments_lexer": "ipython3",
   "version": "3.9.7"
  }
 },
 "nbformat": 4,
 "nbformat_minor": 5
}
