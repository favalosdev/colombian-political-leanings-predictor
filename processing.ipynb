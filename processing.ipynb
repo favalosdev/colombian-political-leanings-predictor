{
 "cells": [
  {
   "cell_type": "code",
   "execution_count": 283,
   "id": "7d7b1884-1e85-4a25-a338-b0d77ee4814a",
   "metadata": {},
   "outputs": [],
   "source": [
    "import pandas as pd\n",
    "import re\n",
    "import string\n",
    "import unidecode\n",
    "from nltk import word_tokenize\n",
    "from nltk.stem import SnowballStemmer"
   ]
  },
  {
   "cell_type": "code",
   "execution_count": 284,
   "id": "a679b55b-dd88-49cd-a7b3-fa0207647308",
   "metadata": {},
   "outputs": [
    {
     "name": "stderr",
     "output_type": "stream",
     "text": [
      "[nltk_data] Downloading package punkt to /Users/fernandoa/nltk_data...\n",
      "[nltk_data]   Package punkt is already up-to-date!\n",
      "[nltk_data] Downloading package stopwords to\n",
      "[nltk_data]     /Users/fernandoa/nltk_data...\n",
      "[nltk_data]   Package stopwords is already up-to-date!\n"
     ]
    }
   ],
   "source": [
    "nltk.download('punkt')\n",
    "nltk.download('stopwords')\n",
    "stemmer = SnowballStemmer('spanish')\n",
    "pd.set_option('max_colwidth', 1000)"
   ]
  },
  {
   "cell_type": "code",
   "execution_count": 285,
   "id": "597e2280-f314-4743-aecc-84ae4f396523",
   "metadata": {},
   "outputs": [],
   "source": [
    "tweets = pd.read_csv('assets/clean_liked_tuits.csv', encoding='utf-8', sep=',')\n",
    "# We just select textual content for the moment. Other columns shall be used later on\n",
    "tweets = tweets[['Text', 'Candidate']].copy()\n",
    "initial_size = len(tweets.index)\n",
    "tweets.dropna(inplace=True)\n",
    "tweets.rename({'Candidate': 'Label'}, axis='columns', inplace=True)\n",
    "tweets['Label'] = tweets['Label'].map({'Petro': 'left', 'Fajardo': 'center', 'Uribe': 'right'})"
   ]
  },
  {
   "cell_type": "code",
   "execution_count": 286,
   "id": "d6770ce9-9f9e-44c8-904e-a49fd9c938a7",
   "metadata": {},
   "outputs": [
    {
     "data": {
      "text/html": [
       "<div>\n",
       "<style scoped>\n",
       "    .dataframe tbody tr th:only-of-type {\n",
       "        vertical-align: middle;\n",
       "    }\n",
       "\n",
       "    .dataframe tbody tr th {\n",
       "        vertical-align: top;\n",
       "    }\n",
       "\n",
       "    .dataframe thead th {\n",
       "        text-align: right;\n",
       "    }\n",
       "</style>\n",
       "<table border=\"1\" class=\"dataframe\">\n",
       "  <thead>\n",
       "    <tr style=\"text-align: right;\">\n",
       "      <th></th>\n",
       "      <th>Text</th>\n",
       "      <th>Label</th>\n",
       "    </tr>\n",
       "  </thead>\n",
       "  <tbody>\n",
       "    <tr>\n",
       "      <th>0</th>\n",
       "      <td>En el gobierno de \\n@petrogustavo\\n se  eliminara el servicio Militar obligatorio y se creará el servicio Militar social voluntario, priorizando la capacitación y la educación de los jóvenes que ingresén, el reclutamiento forzado por parte del estado para los más pobres quedará atrás</td>\n",
       "      <td>left</td>\n",
       "    </tr>\n",
       "    <tr>\n",
       "      <th>1</th>\n",
       "      <td>Cada quien es responsable de sus decisiones, más aún cuando se trata del futuro de 50 millones de colombianos. \\n@OIZuluaga\\n hizo un llamado a la unidad,  \\n@FicoGutierrez\\n @davidbarguil\\n lo entendieron, lastima que a su compañeros de coalición les pudo más su propio interés!</td>\n",
       "      <td>left</td>\n",
       "    </tr>\n",
       "    <tr>\n",
       "      <th>2</th>\n",
       "      <td>La campaña de \\n@petrogustavo\\n hizo levantar al liberalismo antioqueño para trabajar y soñar con el cambio y dejar atrás el régimen de la corrupción.\\n\\n¡Estamos haciendo historia, estamos conquistando corazones!\\n#ElPactoEsBello \\n#PetroEnLaEstrella</td>\n",
       "      <td>left</td>\n",
       "    </tr>\n",
       "    <tr>\n",
       "      <th>3</th>\n",
       "      <td>Por Dios santo \\n¡NO MÁS!</td>\n",
       "      <td>left</td>\n",
       "    </tr>\n",
       "    <tr>\n",
       "      <th>4</th>\n",
       "      <td>Rechazamos los actos vandálicos contra la sede del Pacto Histórico. Este es un espacio para las juventudes, los comerciantes, las mujeres y cualquier persona que desee un cambio en Colombia.\\n\\nNo podemos permitir la violencia en ninguna de sus formas.</td>\n",
       "      <td>left</td>\n",
       "    </tr>\n",
       "  </tbody>\n",
       "</table>\n",
       "</div>"
      ],
      "text/plain": [
       "                                                                                                                                                                                                                                                                                           Text Label\n",
       "0  En el gobierno de \\n@petrogustavo\\n se  eliminara el servicio Militar obligatorio y se creará el servicio Militar social voluntario, priorizando la capacitación y la educación de los jóvenes que ingresén, el reclutamiento forzado por parte del estado para los más pobres quedará atrás  left\n",
       "1       Cada quien es responsable de sus decisiones, más aún cuando se trata del futuro de 50 millones de colombianos. \\n@OIZuluaga\\n hizo un llamado a la unidad,  \\n@FicoGutierrez\\n @davidbarguil\\n lo entendieron, lastima que a su compañeros de coalición les pudo más su propio interés!  left\n",
       "2                                   La campaña de \\n@petrogustavo\\n hizo levantar al liberalismo antioqueño para trabajar y soñar con el cambio y dejar atrás el régimen de la corrupción.\\n\\n¡Estamos haciendo historia, estamos conquistando corazones!\\n#ElPactoEsBello \\n#PetroEnLaEstrella  left\n",
       "3                                                                                                                                                                                                                                                                     Por Dios santo \\n¡NO MÁS!  left\n",
       "4                                 Rechazamos los actos vandálicos contra la sede del Pacto Histórico. Este es un espacio para las juventudes, los comerciantes, las mujeres y cualquier persona que desee un cambio en Colombia.\\n\\nNo podemos permitir la violencia en ninguna de sus formas.   left"
      ]
     },
     "execution_count": 286,
     "metadata": {},
     "output_type": "execute_result"
    }
   ],
   "source": [
    "tweets.head()"
   ]
  },
  {
   "cell_type": "code",
   "execution_count": 287,
   "id": "39326dd9-659f-4224-ac07-4c418b223edf",
   "metadata": {},
   "outputs": [
    {
     "name": "stdout",
     "output_type": "stream",
     "text": [
      "4 records were lost; that is 0.002% of the dataset.\n"
     ]
    }
   ],
   "source": [
    "diff = initial_size - len(tweets.index)\n",
    "print(f'{diff} records were lost; that is {diff/initial_size}% of the dataset.')"
   ]
  },
  {
   "cell_type": "code",
   "execution_count": 288,
   "id": "f0c632e8-b15e-4354-851e-520c929ab1b3",
   "metadata": {},
   "outputs": [],
   "source": [
    "def depure(text):\n",
    "    text = text.lower()\n",
    "    text = re.sub(r'^https?:\\/\\/.*[\\r\\n]*', '', text) # Remove links and url's\n",
    "    text = re.sub('#\\S+', ' ', text) # Remove hashtags\n",
    "    text = re.sub('@\\S+', ' ', text) # Remove Twitter mentions\n",
    "    text = re.sub('\\w*\\d\\w*', ' ', text) # Remove words with numbers\n",
    "    text = unidecode.unidecode(text) # More importantly, remove accents\n",
    "    text = re.sub(r'[^\\w\\s]', ' ', text) # Remove puntuaction\n",
    "    text = re.sub('\\n', ' ', text) # Remove filthy, inconvinient new lines >:)))\n",
    "    return text"
   ]
  },
  {
   "cell_type": "code",
   "execution_count": 289,
   "id": "514e1534-6784-4d5f-843b-f743c6796a61",
   "metadata": {},
   "outputs": [],
   "source": [
    "spanish_stopwords = nltk.corpus.stopwords.words('spanish')\n",
    "def remove_stopwords(words):\n",
    "    return [word for word in words if word not in spanish_stopwords]"
   ]
  },
  {
   "cell_type": "code",
   "execution_count": 290,
   "id": "cf95d157-d58d-4893-93cc-805c16939a27",
   "metadata": {},
   "outputs": [],
   "source": [
    "def stem(words):\n",
    "    return [stemmer.stem(word) for word in words]"
   ]
  },
  {
   "cell_type": "code",
   "execution_count": 291,
   "id": "8cd25c16-2e68-4a58-82a3-1bad426d3d91",
   "metadata": {},
   "outputs": [],
   "source": [
    "def process(text):\n",
    "    depured_text = depure(text)\n",
    "    tokens = word_tokenize(depured_text)\n",
    "    non_stopwords = remove_stopwords(tokens)\n",
    "    stemmed = stem(non_stopwords)\n",
    "    return stemmed"
   ]
  },
  {
   "cell_type": "code",
   "execution_count": 292,
   "id": "c1e41eca-f080-4b03-b3e1-ae7a945e4348",
   "metadata": {},
   "outputs": [],
   "source": [
    "tweets['Text'] = tweets['Text'].apply(process)"
   ]
  },
  {
   "cell_type": "code",
   "execution_count": 293,
   "id": "83c2fd00-f8d5-4955-8768-528b4c875bf2",
   "metadata": {},
   "outputs": [
    {
     "data": {
      "text/html": [
       "<div>\n",
       "<style scoped>\n",
       "    .dataframe tbody tr th:only-of-type {\n",
       "        vertical-align: middle;\n",
       "    }\n",
       "\n",
       "    .dataframe tbody tr th {\n",
       "        vertical-align: top;\n",
       "    }\n",
       "\n",
       "    .dataframe thead th {\n",
       "        text-align: right;\n",
       "    }\n",
       "</style>\n",
       "<table border=\"1\" class=\"dataframe\">\n",
       "  <thead>\n",
       "    <tr style=\"text-align: right;\">\n",
       "      <th></th>\n",
       "      <th>Text</th>\n",
       "      <th>Label</th>\n",
       "    </tr>\n",
       "  </thead>\n",
       "  <tbody>\n",
       "    <tr>\n",
       "      <th>0</th>\n",
       "      <td>[gobiern, elimin, servici, milit, obligatori, cre, servici, milit, social, voluntari, prioriz, capacitacion, educacion, joven, ingres, reclut, forz, part, mas, pobr, qued, atras]</td>\n",
       "      <td>left</td>\n",
       "    </tr>\n",
       "    <tr>\n",
       "      <th>1</th>\n",
       "      <td>[cad, respons, decision, mas, aun, trat, futur, millon, colombian, hiz, llam, unid, entend, lastim, companer, coalicion, pud, mas, propi, inter]</td>\n",
       "      <td>left</td>\n",
       "    </tr>\n",
       "    <tr>\n",
       "      <th>2</th>\n",
       "      <td>[campan, hiz, levant, liberal, antioquen, trabaj, son, cambi, dej, atras, regim, corrupcion, hac, histori, conquist, corazon]</td>\n",
       "      <td>left</td>\n",
       "    </tr>\n",
       "    <tr>\n",
       "      <th>3</th>\n",
       "      <td>[dios, sant, mas]</td>\n",
       "      <td>left</td>\n",
       "    </tr>\n",
       "    <tr>\n",
       "      <th>4</th>\n",
       "      <td>[rechaz, actos, vandal, sed, pact, histor, espaci, juventud, comerci, mujer, cualqui, person, dese, cambi, colombi, pod, permit, violenci, ningun, form]</td>\n",
       "      <td>left</td>\n",
       "    </tr>\n",
       "  </tbody>\n",
       "</table>\n",
       "</div>"
      ],
      "text/plain": [
       "                                                                                                                                                                                 Text Label\n",
       "0  [gobiern, elimin, servici, milit, obligatori, cre, servici, milit, social, voluntari, prioriz, capacitacion, educacion, joven, ingres, reclut, forz, part, mas, pobr, qued, atras]  left\n",
       "1                                    [cad, respons, decision, mas, aun, trat, futur, millon, colombian, hiz, llam, unid, entend, lastim, companer, coalicion, pud, mas, propi, inter]  left\n",
       "2                                                       [campan, hiz, levant, liberal, antioquen, trabaj, son, cambi, dej, atras, regim, corrupcion, hac, histori, conquist, corazon]  left\n",
       "3                                                                                                                                                                   [dios, sant, mas]  left\n",
       "4                            [rechaz, actos, vandal, sed, pact, histor, espaci, juventud, comerci, mujer, cualqui, person, dese, cambi, colombi, pod, permit, violenci, ningun, form]  left"
      ]
     },
     "execution_count": 293,
     "metadata": {},
     "output_type": "execute_result"
    }
   ],
   "source": [
    "tweets.head()"
   ]
  },
  {
   "cell_type": "code",
   "execution_count": null,
   "id": "240661c9-a2b3-434d-8698-64dbace0eddd",
   "metadata": {},
   "outputs": [],
   "source": []
  }
 ],
 "metadata": {
  "kernelspec": {
   "display_name": "Python 3 (ipykernel)",
   "language": "python",
   "name": "python3"
  },
  "language_info": {
   "codemirror_mode": {
    "name": "ipython",
    "version": 3
   },
   "file_extension": ".py",
   "mimetype": "text/x-python",
   "name": "python",
   "nbconvert_exporter": "python",
   "pygments_lexer": "ipython3",
   "version": "3.9.7"
  }
 },
 "nbformat": 4,
 "nbformat_minor": 5
}
