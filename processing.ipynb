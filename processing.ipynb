{
 "cells": [
  {
   "cell_type": "code",
   "execution_count": 3,
   "id": "7d7b1884-1e85-4a25-a338-b0d77ee4814a",
   "metadata": {},
   "outputs": [],
   "source": [
    "import pandas as pd\n",
    "import re\n",
    "import string\n",
    "import unidecode\n",
    "from nltk import word_tokenize\n",
    "from nltk.stem import SnowballStemmer\n",
    "import nltk"
   ]
  },
  {
   "cell_type": "code",
   "execution_count": 4,
   "id": "a679b55b-dd88-49cd-a7b3-fa0207647308",
   "metadata": {},
   "outputs": [
    {
     "name": "stderr",
     "output_type": "stream",
     "text": [
      "[nltk_data] Downloading package punkt to /Users/fernandoa/nltk_data...\n",
      "[nltk_data]   Package punkt is already up-to-date!\n",
      "[nltk_data] Downloading package stopwords to\n",
      "[nltk_data]     /Users/fernandoa/nltk_data...\n",
      "[nltk_data]   Package stopwords is already up-to-date!\n"
     ]
    }
   ],
   "source": [
    "nltk.download('punkt')\n",
    "nltk.download('stopwords')\n",
    "stemmer = SnowballStemmer('spanish')\n",
    "pd.set_option('max_colwidth', 1000)"
   ]
  },
  {
   "cell_type": "code",
   "execution_count": 5,
   "id": "597e2280-f314-4743-aecc-84ae4f396523",
   "metadata": {},
   "outputs": [],
   "source": [
    "tweets = pd.read_csv('assets/tweets.csv', encoding='utf-8', sep=',')\n",
    "# We just select textual content for the moment. Other columns shall be used later on\n",
    "tweets = tweets[['Text', 'Candidate']].copy()\n",
    "initial_size = len(tweets.index)\n",
    "tweets.dropna(inplace=True)\n",
    "tweets.rename({'Candidate': 'Label'}, axis='columns', inplace=True)\n",
    "tweets['Label'] = tweets['Label'].map({'Petro': 'left', 'Fajardo': 'center', 'Uribe': 'right'})"
   ]
  },
  {
   "cell_type": "code",
   "execution_count": 6,
   "id": "d6770ce9-9f9e-44c8-904e-a49fd9c938a7",
   "metadata": {},
   "outputs": [
    {
     "data": {
      "text/html": [
       "<div>\n",
       "<style scoped>\n",
       "    .dataframe tbody tr th:only-of-type {\n",
       "        vertical-align: middle;\n",
       "    }\n",
       "\n",
       "    .dataframe tbody tr th {\n",
       "        vertical-align: top;\n",
       "    }\n",
       "\n",
       "    .dataframe thead th {\n",
       "        text-align: right;\n",
       "    }\n",
       "</style>\n",
       "<table border=\"1\" class=\"dataframe\">\n",
       "  <thead>\n",
       "    <tr style=\"text-align: right;\">\n",
       "      <th></th>\n",
       "      <th>Text</th>\n",
       "      <th>Label</th>\n",
       "    </tr>\n",
       "  </thead>\n",
       "  <tbody>\n",
       "    <tr>\n",
       "      <th>0</th>\n",
       "      <td>#Ahora realizamos recorrido de seguridad en Santa Monica, sector Toberin, localidad de #Usaquén. \\n\\nJunto \\n@PoliciaBogota\\n, \\n@Uaesp\\n, \\n@SeguridadBOG\\n, \\n@SectorMovilidad\\n revisamos condiciones del sector. \\n\\nImportantes compromisos: instalación de luminarias y recuperación espacio público.</td>\n",
       "      <td>right</td>\n",
       "    </tr>\n",
       "    <tr>\n",
       "      <th>1</th>\n",
       "      <td>Hoy, en caravana de moteros junto a \\n@jjUscategui\\n, rendimos homenaje a los héroes de nuestra Fuerza Pública asesinados este año. \\n\\nQue el rugido de estas motos sirva de llamado para que cese todo acto de violencia contra nuestros militares y policías. \\n\\n¡No están solos!</td>\n",
       "      <td>right</td>\n",
       "    </tr>\n",
       "    <tr>\n",
       "      <th>2</th>\n",
       "      <td>Acuerdo La Habana obliga al PENIS (Sustitución droga);\\n\\nCada familia recibe 35 mill en 5 años. Total 100 mil flias y 3,5 bill.\\n\\nResultado, crecen cultivos.\\n\\nDenunciar y reformar: condicionar a que por esfuerzo colectivo no haya droga en el entorno.</td>\n",
       "      <td>right</td>\n",
       "    </tr>\n",
       "    <tr>\n",
       "      <th>3</th>\n",
       "      <td>El POT una mentira más de Claudia López. \\n\\nLa meta es generar cerca de 171 hectáreas de espacio público, pero ¿cómo lo hará? sí habilita más de 6.900 hectáreas para la renovación urbana. \\n\\nEntre más aumenta la densidad, menos espacio público habrá.\\n#PilasConElPOT</td>\n",
       "      <td>right</td>\n",
       "    </tr>\n",
       "    <tr>\n",
       "      <th>4</th>\n",
       "      <td>#UribeConLaVerdad - Sobre el Caso de Cajamarca: “El Ministerio de Defensa va a apersonarse de los legítimos intereses de todas estas personas llenas de dolor” \\n@AlvaroUribeVel\\n el 12 de abril de 2004</td>\n",
       "      <td>right</td>\n",
       "    </tr>\n",
       "  </tbody>\n",
       "</table>\n",
       "</div>"
      ],
      "text/plain": [
       "                                                                                                                                                                                                                                                                                                          Text  \\\n",
       "0  #Ahora realizamos recorrido de seguridad en Santa Monica, sector Toberin, localidad de #Usaquén. \\n\\nJunto \\n@PoliciaBogota\\n, \\n@Uaesp\\n, \\n@SeguridadBOG\\n, \\n@SectorMovilidad\\n revisamos condiciones del sector. \\n\\nImportantes compromisos: instalación de luminarias y recuperación espacio público.   \n",
       "1                        Hoy, en caravana de moteros junto a \\n@jjUscategui\\n, rendimos homenaje a los héroes de nuestra Fuerza Pública asesinados este año. \\n\\nQue el rugido de estas motos sirva de llamado para que cese todo acto de violencia contra nuestros militares y policías. \\n\\n¡No están solos!   \n",
       "2                                               Acuerdo La Habana obliga al PENIS (Sustitución droga);\\n\\nCada familia recibe 35 mill en 5 años. Total 100 mil flias y 3,5 bill.\\n\\nResultado, crecen cultivos.\\n\\nDenunciar y reformar: condicionar a que por esfuerzo colectivo no haya droga en el entorno.   \n",
       "3                                 El POT una mentira más de Claudia López. \\n\\nLa meta es generar cerca de 171 hectáreas de espacio público, pero ¿cómo lo hará? sí habilita más de 6.900 hectáreas para la renovación urbana. \\n\\nEntre más aumenta la densidad, menos espacio público habrá.\\n#PilasConElPOT   \n",
       "4                                                                                                    #UribeConLaVerdad - Sobre el Caso de Cajamarca: “El Ministerio de Defensa va a apersonarse de los legítimos intereses de todas estas personas llenas de dolor” \\n@AlvaroUribeVel\\n el 12 de abril de 2004   \n",
       "\n",
       "   Label  \n",
       "0  right  \n",
       "1  right  \n",
       "2  right  \n",
       "3  right  \n",
       "4  right  "
      ]
     },
     "execution_count": 6,
     "metadata": {},
     "output_type": "execute_result"
    }
   ],
   "source": [
    "tweets.head()"
   ]
  },
  {
   "cell_type": "code",
   "execution_count": 7,
   "id": "39326dd9-659f-4224-ac07-4c418b223edf",
   "metadata": {},
   "outputs": [
    {
     "name": "stdout",
     "output_type": "stream",
     "text": [
      "4 records were lost; that is 0.0013333333333333333% of the dataset.\n"
     ]
    }
   ],
   "source": [
    "diff = initial_size - len(tweets.index)\n",
    "print(f'{diff} records were lost; that is {diff/initial_size}% of the dataset.')"
   ]
  },
  {
   "cell_type": "code",
   "execution_count": 8,
   "id": "f0c632e8-b15e-4354-851e-520c929ab1b3",
   "metadata": {},
   "outputs": [],
   "source": [
    "def depure(text):\n",
    "    text = text.lower()\n",
    "    text = re.sub(r'^https?:\\/\\/.*[\\r\\n]*', '', text) # Remove links and url's\n",
    "    text = re.sub('#\\S+', ' ', text) # Remove hashtags\n",
    "    text = re.sub('@\\S+', ' ', text) # Remove Twitter mentions\n",
    "    text = re.sub('\\w*\\d\\w*', ' ', text) # Remove words with numbers\n",
    "    text = unidecode.unidecode(text) # More importantly, remove accents\n",
    "    text = re.sub(r'[^\\w\\s]', ' ', text) # Remove puntuaction\n",
    "    text = re.sub('\\n', ' ', text) # Remove filthy, inconvinient new lines >:)))\n",
    "    return text"
   ]
  },
  {
   "cell_type": "code",
   "execution_count": 9,
   "id": "514e1534-6784-4d5f-843b-f743c6796a61",
   "metadata": {},
   "outputs": [],
   "source": [
    "spanish_stopwords = nltk.corpus.stopwords.words('spanish')\n",
    "def remove_stopwords(words):\n",
    "    return [word for word in words if word not in spanish_stopwords]"
   ]
  },
  {
   "cell_type": "code",
   "execution_count": 10,
   "id": "cf95d157-d58d-4893-93cc-805c16939a27",
   "metadata": {},
   "outputs": [],
   "source": [
    "def stem(words):\n",
    "    return [stemmer.stem(word) for word in words]"
   ]
  },
  {
   "cell_type": "code",
   "execution_count": 11,
   "id": "8cd25c16-2e68-4a58-82a3-1bad426d3d91",
   "metadata": {},
   "outputs": [],
   "source": [
    "def process(text):\n",
    "    depured_text = depure(text)\n",
    "    tokens = word_tokenize(depured_text)\n",
    "    non_stopwords = remove_stopwords(tokens)\n",
    "    stemmed = stem(non_stopwords)\n",
    "    return stemmed"
   ]
  },
  {
   "cell_type": "code",
   "execution_count": 12,
   "id": "c1e41eca-f080-4b03-b3e1-ae7a945e4348",
   "metadata": {},
   "outputs": [],
   "source": [
    "tweets['Text'] = tweets['Text'].apply(process)"
   ]
  },
  {
   "cell_type": "code",
   "execution_count": 13,
   "id": "83c2fd00-f8d5-4955-8768-528b4c875bf2",
   "metadata": {},
   "outputs": [
    {
     "data": {
      "text/html": [
       "<div>\n",
       "<style scoped>\n",
       "    .dataframe tbody tr th:only-of-type {\n",
       "        vertical-align: middle;\n",
       "    }\n",
       "\n",
       "    .dataframe tbody tr th {\n",
       "        vertical-align: top;\n",
       "    }\n",
       "\n",
       "    .dataframe thead th {\n",
       "        text-align: right;\n",
       "    }\n",
       "</style>\n",
       "<table border=\"1\" class=\"dataframe\">\n",
       "  <thead>\n",
       "    <tr style=\"text-align: right;\">\n",
       "      <th></th>\n",
       "      <th>Text</th>\n",
       "      <th>Label</th>\n",
       "    </tr>\n",
       "  </thead>\n",
       "  <tbody>\n",
       "    <tr>\n",
       "      <th>0</th>\n",
       "      <td>[realiz, recorr, segur, sant, monic, sector, toberin, local, junt, revis, condicion, sector, import, compromis, instalacion, luminari, recuperacion, espaci, public]</td>\n",
       "      <td>right</td>\n",
       "    </tr>\n",
       "    <tr>\n",
       "      <th>1</th>\n",
       "      <td>[hoy, caravan, moter, junt, rend, homenaj, her, fuerz, public, asesin, ano, rug, mot, sirv, llam, ces, acto, violenci, militar, polici, estan, sol]</td>\n",
       "      <td>right</td>\n",
       "    </tr>\n",
       "    <tr>\n",
       "      <th>2</th>\n",
       "      <td>[acuerd, haban, oblig, penis, sustitucion, drog, cad, famili, recib, mill, anos, total, mil, fli, bill, result, crec, cultiv, denunci, reform, condicion, esfuerz, colect, drog, entorn]</td>\n",
       "      <td>right</td>\n",
       "    </tr>\n",
       "    <tr>\n",
       "      <th>3</th>\n",
       "      <td>[pot, mentir, mas, claudi, lopez, met, gener, cerc, hectar, espaci, public, har, si, habilit, mas, hectar, renovacion, urban, mas, aument, densid, men, espaci, public, habr]</td>\n",
       "      <td>right</td>\n",
       "    </tr>\n",
       "    <tr>\n",
       "      <th>4</th>\n",
       "      <td>[cas, cajamarc, ministeri, defens, va, aperson, legit, interes, tod, person, llen, dolor, abril]</td>\n",
       "      <td>right</td>\n",
       "    </tr>\n",
       "  </tbody>\n",
       "</table>\n",
       "</div>"
      ],
      "text/plain": [
       "                                                                                                                                                                                       Text  \\\n",
       "0                      [realiz, recorr, segur, sant, monic, sector, toberin, local, junt, revis, condicion, sector, import, compromis, instalacion, luminari, recuperacion, espaci, public]   \n",
       "1                                       [hoy, caravan, moter, junt, rend, homenaj, her, fuerz, public, asesin, ano, rug, mot, sirv, llam, ces, acto, violenci, militar, polici, estan, sol]   \n",
       "2  [acuerd, haban, oblig, penis, sustitucion, drog, cad, famili, recib, mill, anos, total, mil, fli, bill, result, crec, cultiv, denunci, reform, condicion, esfuerz, colect, drog, entorn]   \n",
       "3             [pot, mentir, mas, claudi, lopez, met, gener, cerc, hectar, espaci, public, har, si, habilit, mas, hectar, renovacion, urban, mas, aument, densid, men, espaci, public, habr]   \n",
       "4                                                                                          [cas, cajamarc, ministeri, defens, va, aperson, legit, interes, tod, person, llen, dolor, abril]   \n",
       "\n",
       "   Label  \n",
       "0  right  \n",
       "1  right  \n",
       "2  right  \n",
       "3  right  \n",
       "4  right  "
      ]
     },
     "execution_count": 13,
     "metadata": {},
     "output_type": "execute_result"
    }
   ],
   "source": [
    "tweets.head()"
   ]
  },
  {
   "cell_type": "code",
   "execution_count": null,
   "id": "ea4d8c5c-c0a3-4046-8f30-ac53401a2cd1",
   "metadata": {},
   "outputs": [],
   "source": []
  }
 ],
 "metadata": {
  "kernelspec": {
   "display_name": "Python 3 (ipykernel)",
   "language": "python",
   "name": "python3"
  },
  "language_info": {
   "codemirror_mode": {
    "name": "ipython",
    "version": 3
   },
   "file_extension": ".py",
   "mimetype": "text/x-python",
   "name": "python",
   "nbconvert_exporter": "python",
   "pygments_lexer": "ipython3",
   "version": "3.9.7"
  }
 },
 "nbformat": 4,
 "nbformat_minor": 5
}
